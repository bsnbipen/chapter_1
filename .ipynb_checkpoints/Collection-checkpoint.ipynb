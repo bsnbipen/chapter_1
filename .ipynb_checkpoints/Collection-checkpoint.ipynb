{
 "cells": [
  {
   "cell_type": "markdown",
   "id": "606d42f6",
   "metadata": {},
   "source": [
    "# Collection in Python\n"
   ]
  },
  {
   "cell_type": "markdown",
   "id": "1afa3f48",
   "metadata": {},
   "source": [
    "## Tuple\n",
    "\n",
    "Tuple are much like rows from a table. They contain objects of different types.\n",
    "\n",
    "``` python\n",
    "row=('Bipendra', 'Basnet', 'Kathmandu, Nepal')\n",
    "```\n",
    "\n",
    "### Named Tuple\n",
    "Named tupled are tuples with name can be called using the \".\"dot.\n",
    "\n",
    "```python\n",
    "from collections import namedtuple\n",
    "Person= namedtuple('Person',[\"fname\",\"lname\",\"address\"])\n",
    "row=Person(\"Bipendra\",\"Basnet\",\"Kathmandu, Nepal\")\n",
    "print(row.fname)\n",
    "```"
   ]
  },
  {
   "cell_type": "code",
   "execution_count": 17,
   "id": "5c9a15b9",
   "metadata": {},
   "outputs": [
    {
     "name": "stdout",
     "output_type": "stream",
     "text": [
      "Bipendra\n"
     ]
    }
   ],
   "source": [
    "from collections import namedtuple\n",
    "Person= namedtuple('Person',[\"fname\",\"lname\",\"address\"])\n",
    "row=Person(\"Bipendra\",\"Basnet\",\"Kathmandu, Nepal\")\n",
    "print(row.fname)"
   ]
  },
  {
   "cell_type": "markdown",
   "id": "6c1bd8ee",
   "metadata": {},
   "source": [
    "## List\n",
    " Mutable Squence or Array\n",
    " \n",
    " Enforces Order\n",
    " ``` python\n",
    " item.append(\"__\") \n",
    " item.sort()\n",
    " del item[]\n",
    " item[x]\n",
    " ```"
   ]
  },
  {
   "cell_type": "code",
   "execution_count": 22,
   "id": "7d403e39",
   "metadata": {},
   "outputs": [
    {
     "name": "stdout",
     "output_type": "stream",
     "text": [
      "['Bijen', 'Ruku', 'Bipen', 'Bijen']\n"
     ]
    }
   ],
   "source": [
    "l=[\"Bijen\",\"Ruku\",\"Bipen\",\"Bijen\"]\n",
    "print (l)"
   ]
  },
  {
   "cell_type": "markdown",
   "id": "56076cbd",
   "metadata": {},
   "source": [
    "## Set\n",
    "\n",
    "Useful for uniqueness and membership\n",
    "\n",
    "``` python\n",
    "s={val1, val2,val3}\n",
    "```\n",
    "Uses the arthematic set operations. \n",
    "Drops the duplicate value that you give.\n",
    "\n",
    "``` python\n",
    "s={'Ruku','Bijen','Bipen','Bipen'}\n",
    "print(s)\n",
    "```\n",
    "{'Bipen', 'Ruku', 'Bijen'}"
   ]
  },
  {
   "cell_type": "code",
   "execution_count": 23,
   "id": "55571142",
   "metadata": {},
   "outputs": [
    {
     "name": "stdout",
     "output_type": "stream",
     "text": [
      "{'Bipen', 'Ruku', 'Bijen'}\n"
     ]
    }
   ],
   "source": [
    "s={'Ruku','Bijen','Bipen','Bipen'}\n",
    "print(s)"
   ]
  },
  {
   "cell_type": "markdown",
   "id": "36722c7f",
   "metadata": {},
   "source": [
    "## Dictionary\n",
    "\n",
    "Useful for Indexing and Mapping\n",
    "Key-value Pairs\n",
    "\n",
    "Used for Look-UP tables and Indexing\n",
    "\n",
    "```python\n",
    "d={key1:val1, key2:val2, key3:val3}\n",
    "val=d[key]\n",
    "key in d\n",
    "```\n"
   ]
  },
  {
   "cell_type": "code",
   "execution_count": 25,
   "id": "ad57b63d",
   "metadata": {},
   "outputs": [
    {
     "data": {
      "text/plain": [
       "102"
      ]
     },
     "execution_count": 25,
     "metadata": {},
     "output_type": "execute_result"
    }
   ],
   "source": [
    "price={\"Potato\":102, \"Tomato\":103,\"Mushroom\":50}\n",
    "price[\"Potato\"]"
   ]
  },
  {
   "cell_type": "markdown",
   "id": "c38ff1b7",
   "metadata": {},
   "source": [
    "## Counter\n",
    "\n",
    "Used for counting, histograms and tabulation\n",
    "\n",
    "``` python\n",
    "c= Counter(sequence)\n",
    "c[key] += n\n",
    "c.most_common(n): Give the most common items in the sequence\n",
    "```\n",
    " Makes a dictionary and keep count of the items in the sequence. \n"
   ]
  },
  {
   "cell_type": "code",
   "execution_count": 37,
   "id": "348a425b",
   "metadata": {},
   "outputs": [
    {
     "name": "stdout",
     "output_type": "stream",
     "text": [
      "Counter({'x': 3, 'y': 3, 'z': 1})\n",
      "Two of the most common items: [('x', 3), ('y', 3)]\n",
      "Only one most common item [('x', 3)]\n",
      "Counter({3: 3, 2: 2, 4: 2, 1: 1, 12: 1})\n"
     ]
    }
   ],
   "source": [
    "from collections import Counter\n",
    "c= Counter(\"xyxxyzy\")\n",
    "print(c)\n",
    "c[\"x\"]\n",
    "print('Two of the most common items:',c.most_common(2))\n",
    "print('Only one most common item',c.most_common(1))\n",
    "\n",
    "list_of_force = [1,2,3,4,12,3,4,2,3]\n",
    "forces=Counter(list_of_force)\n",
    "print (forces)\n"
   ]
  },
  {
   "cell_type": "markdown",
   "id": "7e597543",
   "metadata": {},
   "source": [
    "## DefaultDictionary\n",
    "\n",
    "Showing One to Many Relationship\n",
    "Grouping of Data\n",
    "\n",
    "``` python\n",
    "from collections import defaultdict\n",
    "d=defaultdict(list)\n",
    "d[key].append(val)\n",
    "values=d[key]\n",
    "\n",
    "d=defaultdict(set)\n",
    "d[key].add(val)\n",
    "unique_values=d[key]\n",
    "```\n"
   ]
  },
  {
   "cell_type": "code",
   "execution_count": 39,
   "id": "b43faa74",
   "metadata": {},
   "outputs": [
    {
     "name": "stdout",
     "output_type": "stream",
     "text": [
      "defaultdict(<class 'list'>, {'Potato': [102], 'Tomato': [105, 110]})\n"
     ]
    }
   ],
   "source": [
    "from collections import defaultdict\n",
    "d=defaultdict(list)\n",
    "d[\"Potato\"].append(102)\n",
    "d[\"Tomato\"].append(105)\n",
    "d[\"Tomato\"].append(110)\n",
    "print(d)"
   ]
  },
  {
   "cell_type": "markdown",
   "id": "b26f5112",
   "metadata": {},
   "source": [
    "# Basic Powers\n",
    "\n",
    "## Iterate\n",
    "\n",
    "``` python\n",
    "for item in container:\n",
    "    ...\n",
    "```\n",
    "\n",
    "### Variants\n",
    "\n",
    "``` python\n",
    "for item in enumerate(container):\n",
    "    \n",
    "for item1, item2 in zips (container1, container2):\n",
    "```\n",
    "\n",
    "## Reduction\n",
    "```\n",
    "sum(container)\n",
    "any(container)\n",
    "all(container)\n",
    "min(container)\n",
    "max(container)\n",
    "```\n"
   ]
  },
  {
   "cell_type": "markdown",
   "id": "c1ccfb5e",
   "metadata": {},
   "source": [
    "# Comprehensions\n",
    "\n",
    "## List Comprehension\n",
    "\n",
    "[expression for x in iterable if condiotion]\n",
    "\n",
    "## Set Comprehension\n",
    "\n",
    "{expression for x in iterable if condition}\n",
    "\n",
    "## Dictionary Comprehension\n",
    "\n",
    "{key: value for key, value in iterable if condition}"
   ]
  },
  {
   "cell_type": "code",
   "execution_count": 44,
   "id": "5fd0187f",
   "metadata": {},
   "outputs": [
    {
     "name": "stdout",
     "output_type": "stream",
     "text": [
      "[10404, 10609, 10816]\n"
     ]
    }
   ],
   "source": [
    "num=[102,103,104]\n",
    "\n",
    "lst1=[x*x for x in num]\n",
    "print(lst1)"
   ]
  },
  {
   "cell_type": "markdown",
   "id": "89200531",
   "metadata": {},
   "source": [
    "## Generator Expressions\n",
    "``` python\n",
    "(expression for x in iterable if condition)\n",
    "```\n",
    "They can be combined with redution functions\n",
    "``` python\n",
    "sum(expression for x in iterable if condition)\n",
    "```\n",
    "\n",
    "Generator functions allows us to process huge amount of data incremetally saving huge amount of time.\n"
   ]
  },
  {
   "cell_type": "code",
   "execution_count": 47,
   "id": "b5a24500",
   "metadata": {},
   "outputs": [
    {
     "name": "stdout",
     "output_type": "stream",
     "text": [
      "1\n",
      "4\n",
      "9\n",
      "16\n",
      "25\n",
      "36\n"
     ]
    }
   ],
   "source": [
    "num=[1,2,3,4,5,6]\n",
    "\n",
    "squares=(x*x for x in num)\n",
    "\n",
    "for n in squares:\n",
    "    print(n)"
   ]
  },
  {
   "cell_type": "markdown",
   "id": "a06cdfda",
   "metadata": {},
   "source": [
    "Above a generator object (squares) is created and only feeds value one at a time using the ``` for``` loop. It helps to \n",
    "save a huge amount of memory in our programs.\n"
   ]
  },
  {
   "cell_type": "markdown",
   "id": "33e4a298",
   "metadata": {},
   "source": [
    "# Example\n",
    "City of Chicago Food Inspection data"
   ]
  },
  {
   "cell_type": "code",
   "execution_count": null,
   "id": "356f781a",
   "metadata": {},
   "outputs": [],
   "source": [
    "import csv\n",
    "food=list(csv.DictReader)"
   ]
  }
 ],
 "metadata": {
  "kernelspec": {
   "display_name": "Python 3",
   "language": "python",
   "name": "python3"
  },
  "language_info": {
   "codemirror_mode": {
    "name": "ipython",
    "version": 3
   },
   "file_extension": ".py",
   "mimetype": "text/x-python",
   "name": "python",
   "nbconvert_exporter": "python",
   "pygments_lexer": "ipython3",
   "version": "3.9.2"
  }
 },
 "nbformat": 4,
 "nbformat_minor": 5
}
