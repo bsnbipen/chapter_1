{
 "cells": [
  {
   "cell_type": "markdown",
   "id": "bcd6dda1",
   "metadata": {},
   "source": [
    "# Starting with Python\n"
   ]
  },
  {
   "cell_type": "markdown",
   "id": "f9dbdb88",
   "metadata": {},
   "source": [
    "This is the begginig of python programming "
   ]
  },
  {
   "cell_type": "code",
   "execution_count": 3,
   "id": "7f931bdd",
   "metadata": {},
   "outputs": [
    {
     "name": "stdout",
     "output_type": "stream",
     "text": [
      "Test\n"
     ]
    }
   ],
   "source": [
    "print('Test')"
   ]
  },
  {
   "cell_type": "code",
   "execution_count": 6,
   "id": "9febfc4c",
   "metadata": {},
   "outputs": [],
   "source": [
    "def testFunction(name):\n",
    "    print(f'This is the name {name}')"
   ]
  },
  {
   "cell_type": "code",
   "execution_count": 8,
   "id": "f197dd2f",
   "metadata": {},
   "outputs": [],
   "source": [
    "make_list = [1,2,3,4]"
   ]
  },
  {
   "cell_type": "code",
   "execution_count": 10,
   "id": "a2f389f8",
   "metadata": {},
   "outputs": [
    {
     "name": "stdout",
     "output_type": "stream",
     "text": [
      "This is the name Ram\n",
      "1\n",
      "2\n",
      "3\n",
      "4\n"
     ]
    }
   ],
   "source": [
    "testFunction('Ram')\n",
    "for i in make_list:\n",
    "    print(i)"
   ]
  },
  {
   "cell_type": "markdown",
   "id": "a50a26d2",
   "metadata": {},
   "source": [
    "To install jupyter notebook\n",
    "```python\n",
    "def printThis(name):\n",
    "    print(name)\n",
    "```"
   ]
  },
  {
   "cell_type": "code",
   "execution_count": 11,
   "id": "668ce8e7",
   "metadata": {},
   "outputs": [],
   "source": [
    "force_applied = [12,3,4,5,12,4,4]"
   ]
  },
  {
   "cell_type": "code",
   "execution_count": 12,
   "id": "22c7e0d1",
   "metadata": {},
   "outputs": [
    {
     "ename": "NameError",
     "evalue": "name 'collections' is not defined",
     "output_type": "error",
     "traceback": [
      "\u001b[1;31m---------------------------------------------------------------------------\u001b[0m",
      "\u001b[1;31mNameError\u001b[0m                                 Traceback (most recent call last)",
      "\u001b[1;32m<ipython-input-12-d5494cbfefeb>\u001b[0m in \u001b[0;36m<module>\u001b[1;34m\u001b[0m\n\u001b[1;32m----> 1\u001b[1;33m \u001b[0mcount\u001b[0m \u001b[1;33m=\u001b[0m \u001b[0mcollections\u001b[0m\u001b[1;33m.\u001b[0m\u001b[0mCounter\u001b[0m\u001b[1;33m(\u001b[0m\u001b[1;33m)\u001b[0m\u001b[1;33m\u001b[0m\u001b[1;33m\u001b[0m\u001b[0m\n\u001b[0m",
      "\u001b[1;31mNameError\u001b[0m: name 'collections' is not defined"
     ]
    }
   ],
   "source": []
  }
 ],
 "metadata": {
  "kernelspec": {
   "display_name": "Python 3",
   "language": "python",
   "name": "python3"
  },
  "language_info": {
   "codemirror_mode": {
    "name": "ipython",
    "version": 3
   },
   "file_extension": ".py",
   "mimetype": "text/x-python",
   "name": "python",
   "nbconvert_exporter": "python",
   "pygments_lexer": "ipython3",
   "version": "3.9.2"
  }
 },
 "nbformat": 4,
 "nbformat_minor": 5
}
