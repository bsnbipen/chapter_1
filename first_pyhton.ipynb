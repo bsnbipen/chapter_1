{
 "cells": [
  {
   "cell_type": "markdown",
   "id": "f44c5974",
   "metadata": {},
   "source": [
    "# Starting with Python\n"
   ]
  },
  {
   "cell_type": "markdown",
   "id": "bc1bacf2",
   "metadata": {},
   "source": [
    "This is the begginig of python programming "
   ]
  },
  {
   "cell_type": "code",
   "execution_count": 2,
   "id": "a1a5adba",
   "metadata": {},
   "outputs": [
    {
     "name": "stdout",
     "output_type": "stream",
     "text": [
      "Test\n"
     ]
    }
   ],
   "source": [
    "print('Test')"
   ]
  }
 ],
 "metadata": {
  "kernelspec": {
   "display_name": "Python 3",
   "language": "python",
   "name": "python3"
  },
  "language_info": {
   "codemirror_mode": {
    "name": "ipython",
    "version": 3
   },
   "file_extension": ".py",
   "mimetype": "text/x-python",
   "name": "python",
   "nbconvert_exporter": "python",
   "pygments_lexer": "ipython3",
   "version": "3.9.2"
  }
 },
 "nbformat": 4,
 "nbformat_minor": 5
}
